{
  "nbformat": 4,
  "nbformat_minor": 0,
  "metadata": {
    "colab": {
      "name": "Linear_regression_using_SGD.ipynb",
      "provenance": []
    },
    "kernelspec": {
      "name": "python3",
      "display_name": "Python 3"
    }
  },
  "cells": [
    {
      "cell_type": "code",
      "metadata": {
        "colab": {
          "base_uri": "https://localhost:8080/"
        },
        "id": "XhhM164EdOM_",
        "outputId": "5258a084-fcbf-471f-f9ec-0926b5308593"
      },
      "source": [
        "import numpy as np\r\n",
        "import matplotlib.pyplot as plt\r\n",
        "import pandas as pd\r\n",
        "import scipy.linalg as la\r\n",
        "import math\r\n",
        "from scipy.fftpack import fft,fftfreq\r\n",
        "from scipy.linalg import toeplitz\r\n",
        "from matplotlib import animation\r\n",
        "\r\n",
        "def cost_1(thetain,X,Y):\r\n",
        "    m=len(Y)\r\n",
        "    y_hat=np.dot(X,thetain)\r\n",
        "    error=y_hat-Y\r\n",
        "    cost=np.dot(error.T,error)# here i am not dividing it by 2*m but if you want u can make changes.......\r\n",
        "    return cost\r\n",
        "\r\n",
        "def cost_derivative(thetain,X,Y,alpha):\r\n",
        "    number_of_rows = X.shape[0]\r\n",
        "    random_indices = np.random.choice(number_of_rows, size=2, replace=False)\r\n",
        "    X_i = X[random_indices, :]\r\n",
        "    y_i = Y[random_indices]\r\n",
        "    prediction = np.dot(X_i,thetain)\r\n",
        "    thetaout = thetain -(2)*alpha*( X_i.T.dot((prediction - y_i)))\r\n",
        "    error=prediction-y_i\r\n",
        "    cost=error**2\r\n",
        "    return thetaout,cost\r\n",
        "df = pd.read_csv('assign2.csv')\r\n",
        "X=df.iloc[:,0:1]\r\n",
        "Y=df.iloc[:,1:2]\r\n",
        "X1=X.copy()\r\n",
        "meanx=X1.mean()\r\n",
        "stdx=X1.std()\r\n",
        "X1=np.array(X1)\r\n",
        "X1=X1.reshape(len(X1),)\r\n",
        "X = (X - X.mean()) / X.std()\r\n",
        "X=np.c_[ np.ones(X.shape[0]),X ]\r\n",
        "alpha=0.01\r\n",
        "iterations=200\r\n",
        "Y=np.array(Y)\r\n",
        "Y=Y.reshape(len(Y),)\r\n",
        "theta=np.random.rand(2)\r\n",
        "old=theta.copy()\r\n",
        "oldc=[]\r\n",
        "for i in range(iterations):\r\n",
        "    theta,cost11=cost_derivative(old,X,Y,alpha)\r\n",
        "    oldc.append(cost_1(theta,X,Y))\r\n",
        "    old=theta.copy()        \r\n",
        "\r\n",
        "theta[0]=theta[0]-theta[1]*meanx/stdx\r\n",
        "theta[1]=theta[1]/stdx\r\n",
        "print(\"minimum obtained value for the given function is %.2f\"%np.min(oldc))"
      ],
      "execution_count": 1,
      "outputs": [
        {
          "output_type": "stream",
          "text": [
            "minimum obtained value for the given function is 1572.82\n"
          ],
          "name": "stdout"
        }
      ]
    }
  ]
}